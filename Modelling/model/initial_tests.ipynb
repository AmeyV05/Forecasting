{
 "cells": [
  {
   "cell_type": "markdown",
   "metadata": {},
   "source": [
    "Experimenting and analysing with the buko dataset."
   ]
  },
  {
   "cell_type": "code",
   "execution_count": 1,
   "metadata": {},
   "outputs": [],
   "source": [
    "import os \n",
    "import sys\n",
    "import numpy as np\n",
    "import matplotlib.pyplot as plt\n",
    "import seaborn as sns\n",
    "import pandas as pd\n",
    "import processing\n",
    "sns.set_theme(context=\"notebook\")"
   ]
  },
  {
   "cell_type": "code",
   "execution_count": 2,
   "metadata": {},
   "outputs": [],
   "source": [
    "fileloc='../../Raw_data_van_Tim/BISAS Data Ruw/'\n",
    "file=fileloc+'retourbonregels.csv'\n",
    "df=pd.read_csv(file,skip_blank_lines=True,header=0,encoding='ascii',encoding_errors='backslashreplace',sep=';',on_bad_lines='warn')\n",
    "# df.head()"
   ]
  },
  {
   "cell_type": "code",
   "execution_count": 3,
   "metadata": {},
   "outputs": [
    {
     "name": "stderr",
     "output_type": "stream",
     "text": [
      "b'Skipping line 19887: expected 17 fields, saw 18\\n'\n",
      "b'Skipping line 54124: expected 17 fields, saw 18\\n'\n",
      "b'Skipping line 67095: expected 17 fields, saw 18\\nSkipping line 67156: expected 17 fields, saw 18\\nSkipping line 79843: expected 17 fields, saw 19\\nSkipping line 89777: expected 17 fields, saw 18\\nSkipping line 93045: expected 17 fields, saw 18\\nSkipping line 95041: expected 17 fields, saw 18\\nSkipping line 97691: expected 17 fields, saw 18\\nSkipping line 98042: expected 17 fields, saw 18\\n'\n",
      "b'Skipping line 98497: expected 17 fields, saw 18\\nSkipping line 99075: expected 17 fields, saw 18\\nSkipping line 101426: expected 17 fields, saw 18\\nSkipping line 104485: expected 17 fields, saw 18\\nSkipping line 104555: expected 17 fields, saw 18\\nSkipping line 106142: expected 17 fields, saw 18\\nSkipping line 106165: expected 17 fields, saw 18\\nSkipping line 106177: expected 17 fields, saw 18\\nSkipping line 106179: expected 17 fields, saw 18\\nSkipping line 106180: expected 17 fields, saw 18\\nSkipping line 107745: expected 17 fields, saw 18\\nSkipping line 112356: expected 17 fields, saw 18\\nSkipping line 114556: expected 17 fields, saw 18\\nSkipping line 115514: expected 17 fields, saw 18\\nSkipping line 117676: expected 17 fields, saw 18\\nSkipping line 118500: expected 17 fields, saw 18\\nSkipping line 119503: expected 17 fields, saw 18\\nSkipping line 119597: expected 17 fields, saw 18\\nSkipping line 120000: expected 17 fields, saw 18\\nSkipping line 120024: expected 17 fields, saw 18\\nSkipping line 120486: expected 17 fields, saw 18\\nSkipping line 121477: expected 17 fields, saw 19\\nSkipping line 121657: expected 17 fields, saw 18\\nSkipping line 122599: expected 17 fields, saw 18\\nSkipping line 122820: expected 17 fields, saw 18\\nSkipping line 122996: expected 17 fields, saw 18\\nSkipping line 124756: expected 17 fields, saw 18\\nSkipping line 125443: expected 17 fields, saw 18\\nSkipping line 126428: expected 17 fields, saw 18\\nSkipping line 126539: expected 17 fields, saw 18\\nSkipping line 126791: expected 17 fields, saw 18\\nSkipping line 126792: expected 17 fields, saw 18\\nSkipping line 130107: expected 17 fields, saw 18\\nSkipping line 131058: expected 17 fields, saw 18\\n'\n",
      "b'Skipping line 132408: expected 17 fields, saw 18\\nSkipping line 132769: expected 17 fields, saw 18\\nSkipping line 135592: expected 17 fields, saw 18\\nSkipping line 135831: expected 17 fields, saw 18\\nSkipping line 135867: expected 17 fields, saw 19\\nSkipping line 135928: expected 17 fields, saw 19\\nSkipping line 135936: expected 17 fields, saw 18\\nSkipping line 138062: expected 17 fields, saw 18\\nSkipping line 143092: expected 17 fields, saw 19\\nSkipping line 145784: expected 17 fields, saw 18\\nSkipping line 147326: expected 17 fields, saw 18\\nSkipping line 147874: expected 17 fields, saw 18\\nSkipping line 148324: expected 17 fields, saw 18\\nSkipping line 149479: expected 17 fields, saw 18\\nSkipping line 154658: expected 17 fields, saw 18\\nSkipping line 159390: expected 17 fields, saw 18\\nSkipping line 160354: expected 17 fields, saw 18\\n'\n",
      "b'Skipping line 164500: expected 17 fields, saw 19\\nSkipping line 166366: expected 17 fields, saw 18\\nSkipping line 168720: expected 17 fields, saw 18\\nSkipping line 168992: expected 17 fields, saw 18\\nSkipping line 174001: expected 17 fields, saw 18\\nSkipping line 175522: expected 17 fields, saw 18\\nSkipping line 177225: expected 17 fields, saw 18\\nSkipping line 177473: expected 17 fields, saw 18\\nSkipping line 179090: expected 17 fields, saw 18\\nSkipping line 181869: expected 17 fields, saw 18\\nSkipping line 183853: expected 17 fields, saw 18\\nSkipping line 186561: expected 17 fields, saw 18\\nSkipping line 187754: expected 17 fields, saw 18\\nSkipping line 192279: expected 17 fields, saw 18\\nSkipping line 193891: expected 17 fields, saw 18\\nSkipping line 194792: expected 17 fields, saw 18\\n'\n",
      "b'Skipping line 203236: expected 17 fields, saw 18\\nSkipping line 203727: expected 17 fields, saw 19\\nSkipping line 203794: expected 17 fields, saw 18\\nSkipping line 204375: expected 17 fields, saw 18\\nSkipping line 210669: expected 17 fields, saw 18\\nSkipping line 212646: expected 17 fields, saw 18\\nSkipping line 213124: expected 17 fields, saw 18\\n'\n",
      "C:\\Users\\Amey\\AppData\\Local\\Temp\\ipykernel_14220\\2189308298.py:2: DtypeWarning: Columns (0,3,15) have mixed types. Specify dtype option on import or set low_memory=False.\n",
      "  df=pd.read_csv(orderfile,skip_blank_lines=True,header=0,encoding='ascii',encoding_errors='backslashreplace',sep=';',on_bad_lines='warn')\n"
     ]
    }
   ],
   "source": [
    "orderfile=fileloc+'order.csv'\n",
    "df=pd.read_csv(orderfile,skip_blank_lines=True,header=0,encoding='ascii',encoding_errors='backslashreplace',sep=';',on_bad_lines='warn')\n",
    "# df.head()"
   ]
  },
  {
   "cell_type": "markdown",
   "metadata": {},
   "source": [
    "After doing a bit of thinking. The first idea is to divide the data in regions. For each region we try to see for each article how many are rented per day. And plot that as a time series. \n",
    "### Connection of files is as follows\n",
    "\n",
    "### ORDER \n",
    "* #### Bestelbon  Retourbon\n",
    "  * ##### Bestelbonregel Retourbonregel \n",
    "\n",
    "NB: regel means row"
   ]
  },
  {
   "cell_type": "code",
   "execution_count": 4,
   "metadata": {},
   "outputs": [],
   "source": [
    "#let us start with region  and article details\n",
    "region_file=fileloc+'vestiging.csv'\n",
    "df_r=pd.read_csv(region_file,skip_blank_lines=True,header=0,encoding='ascii',encoding_errors='backslashreplace',sep=';',on_bad_lines='warn')\n",
    "#rotterdam code is 3 \n",
    "vestiging_code=3\n",
    "artikel_file=fileloc+'artikel.csv'\n",
    "df_art=pd.read_csv(artikel_file,skip_blank_lines=True,header=0,encoding='ascii',encoding_errors='backslashreplace',sep=';',on_bad_lines='warn')\n",
    "df_art.head()\n",
    "#let us consider artikel Dranghek\n",
    "# artikel_code='DRANGHEK'\n",
    "# artikel_code='991'\n",
    "artikel_code='BUISPOOT'"
   ]
  },
  {
   "cell_type": "markdown",
   "metadata": {},
   "source": [
    "Steps are as follows:\n",
    "* Get the order numbers for rotterdam or a region\n",
    "* Take this input in Bestelbon which gives you the bestelbon code and in date,\n",
    "* Give it to bestel bon regels and check if that order has that artikel. If so, go ahead with retourbon . \n",
    "* In retourbon regels get the retourbon for that bestelbon\n",
    "* in retourbon get the out  date. \n",
    "* save this in a dictionary to process later,."
   ]
  },
  {
   "cell_type": "code",
   "execution_count": 64,
   "metadata": {},
   "outputs": [
    {
     "data": {
      "text/plain": [
       "<module 'processing' from 'c:\\\\Users\\\\Amey\\\\Documents\\\\BUKO_forecasting\\\\Modelling\\\\model\\\\processing.py'>"
      ]
     },
     "execution_count": 64,
     "metadata": {},
     "output_type": "execute_result"
    }
   ],
   "source": [
    "import importlib\n",
    "importlib.reload(processing)"
   ]
  },
  {
   "cell_type": "code",
   "execution_count": 65,
   "metadata": {},
   "outputs": [
    {
     "name": "stderr",
     "output_type": "stream",
     "text": [
      "c:\\Users\\Amey\\Documents\\BUKO_forecasting\\Modelling\\model\\processing.py:30: DtypeWarning: Columns (0,3,15) have mixed types. Specify dtype option on import or set low_memory=False.\n",
      "  #function to get order numbers based on regions.\n"
     ]
    }
   ],
   "source": [
    "start_year=2015\n",
    "end_year=2016\n",
    "order_file=fileloc+'order.csv'\n",
    "reg_order_series,vestiging_series=processing.get_order_numbers(order_file,vestiging_code,start_year,end_year)\n"
   ]
  },
  {
   "cell_type": "code",
   "execution_count": 6,
   "metadata": {},
   "outputs": [
    {
     "name": "stdout",
     "output_type": "stream",
     "text": [
      "Checking for order number:300002\n",
      "The Bestel bon numbers in this order are:['300002.B001']\n",
      "Length of the bestel number series is:1\n",
      "Artikles in this bestel number are:0    VERVALLEN\n",
      "1    VERVALLEN\n",
      "2    VERVALLEN\n",
      "Name: Artikel, dtype: object\n",
      "Number of Artikels in this bestel number are:3\n",
      "No artikel of this type in bestel number:300002.B001\n",
      "Checking for order number:300003\n",
      "The Bestel bon numbers in this order are:['300003.B001']\n",
      "Length of the bestel number series is:1\n",
      "Artikles in this bestel number are:3    991\n",
      "Name: Artikel, dtype: object\n",
      "Number of Artikels in this bestel number are:1\n",
      "No artikel of this type in bestel number:300003.B001\n",
      "Checking for order number:300007\n",
      "The Bestel bon numbers in this order are:['300007.B001']\n",
      "Length of the bestel number series is:1\n",
      "Artikles in this bestel number are:4         AHEK\n",
      "5     BUISPOOT\n",
      "6     BUISPOOT\n",
      "7       C01-80\n",
      "8           P1\n",
      "9       E01-60\n",
      "10     TB4080W\n",
      "11          P2\n",
      "Name: Artikel, dtype: object\n",
      "Number of Artikels in this bestel number are:8\n",
      "Number of Artikels of type BUISPOOT in this bestel number are:[12.  4.]\n",
      "Checking for order number:300010\n",
      "The Bestel bon numbers in this order are:['300010.B001']\n",
      "Length of the bestel number series is:1\n",
      "Artikles in this bestel number are:31       991\n",
      "32       991\n",
      "33    B07-70\n",
      "Name: Artikel, dtype: object\n",
      "Number of Artikels in this bestel number are:3\n",
      "No artikel of this type in bestel number:300010.B001\n",
      "Checking for order number:300013\n",
      "The Bestel bon numbers in this order are:['300013.B001' '300013.B002' '300013.B003' '300013.B004' '300013.B006'\n",
      " '300013.B007' '300013.B008' '300013.B009' '300013.B010' '300013.B011'\n",
      " '300013.B012' '300013.B013' '300013.B014' '300013.B015' '300013.B016'\n",
      " '300013.B017' '300013.B018']\n",
      "Length of the bestel number series is:17\n",
      "Artikles in this bestel number are:34      D02L-80\n",
      "35    VERVALLEN\n",
      "36       D03-80\n",
      "37      TB4080W\n",
      "38           P1\n",
      "Name: Artikel, dtype: object\n",
      "Number of Artikels in this bestel number are:5\n",
      "No artikel of this type in bestel number:300013.B001\n",
      "Artikles in this bestel number are:39      VERVALLEN\n",
      "40      VERVALLEN\n",
      "41         J16-90\n",
      "42    A01-80-(70)\n",
      "43    A02-80-(70)\n",
      "44             P3\n",
      "45       GRONDPOT\n",
      "Name: Artikel, dtype: object\n",
      "Number of Artikels in this bestel number are:7\n",
      "No artikel of this type in bestel number:300013.B002\n",
      "Artikles in this bestel number are:55          VERVALLEN\n",
      "56          VERVALLEN\n",
      "57      BARRIERSTAAL#\n",
      "58    BARRIERPUNTSTA#\n",
      "Name: Artikel, dtype: object\n",
      "Number of Artikels in this bestel number are:4\n",
      "No artikel of this type in bestel number:300013.B003\n",
      "Artikles in this bestel number are:59          VERVALLEN\n",
      "60          VERVALLEN\n",
      "61      BARRIERSTAAL#\n",
      "62    BARRIERPUNTSTA#\n",
      "Name: Artikel, dtype: object\n",
      "Number of Artikels in this bestel number are:4\n",
      "No artikel of this type in bestel number:300013.B004\n",
      "Artikles in this bestel number are:66        VERVALLEN\n",
      "67        VERVALLEN\n",
      "68    BARRIERSTAAL#\n",
      "Name: Artikel, dtype: object\n",
      "Number of Artikels in this bestel number are:3\n",
      "No artikel of this type in bestel number:300013.B006\n",
      "Artikles in this bestel number are:87        VERVALLEN\n",
      "88        VERVALLEN\n",
      "89    BARRIERSTAAL#\n",
      "Name: Artikel, dtype: object\n",
      "Number of Artikels in this bestel number are:3\n",
      "No artikel of this type in bestel number:300013.B007\n",
      "Artikles in this bestel number are:9907    GRONDPOT\n",
      "9908      J01-90\n",
      "9909          P3\n",
      "Name: Artikel, dtype: object\n",
      "Number of Artikels in this bestel number are:3\n",
      "No artikel of this type in bestel number:300013.B008\n",
      "Artikles in this bestel number are:9910    GRONDPOT\n",
      "9911      J01-90\n",
      "9912          P3\n",
      "Name: Artikel, dtype: object\n",
      "Number of Artikels in this bestel number are:3\n",
      "No artikel of this type in bestel number:300013.B009\n",
      "Artikles in this bestel number are:12926              P3\n",
      "12927        GRONDPOT\n",
      "12928        GRONDPOT\n",
      "12929        TB90100G\n",
      "12930              P3\n",
      "12931    L10-SPECIAAL\n",
      "Name: Artikel, dtype: object\n",
      "Number of Artikels in this bestel number are:6\n",
      "No artikel of this type in bestel number:300013.B010\n",
      "Artikles in this bestel number are:13933    SCHOORTBENK\n",
      "13934       GRONDPOT\n",
      "13935             P2\n",
      "13936            991\n",
      "13937      OPLPOT1,5\n",
      "Name: Artikel, dtype: object\n",
      "Number of Artikels in this bestel number are:5\n",
      "No artikel of this type in bestel number:300013.B011\n",
      "Artikles in this bestel number are:Series([], Name: Artikel, dtype: object)\n",
      "Number of Artikels in this bestel number are:0\n",
      "No artikel of this type in bestel number:300013.B012\n",
      "Artikles in this bestel number are:Series([], Name: Artikel, dtype: object)\n",
      "Number of Artikels in this bestel number are:0\n",
      "No artikel of this type in bestel number:300013.B013\n",
      "Artikles in this bestel number are:31657    TB4080G\n",
      "Name: Artikel, dtype: object\n",
      "Number of Artikels in this bestel number are:1\n",
      "No artikel of this type in bestel number:300013.B014\n",
      "Artikles in this bestel number are:32504    BEUGEL\n",
      "32505    C07-60\n",
      "Name: Artikel, dtype: object\n",
      "Number of Artikels in this bestel number are:2\n",
      "No artikel of this type in bestel number:300013.B015\n",
      "Artikles in this bestel number are:34006    C07-60\n",
      "34007    BEUGEL\n",
      "34008       991\n",
      "34009      6910\n",
      "Name: Artikel, dtype: object\n",
      "Number of Artikels in this bestel number are:4\n",
      "No artikel of this type in bestel number:300013.B016\n",
      "Artikles in this bestel number are:34745    3415\n",
      "Name: Artikel, dtype: object\n",
      "Number of Artikels in this bestel number are:1\n",
      "No artikel of this type in bestel number:300013.B017\n",
      "Artikles in this bestel number are:35079    BEUGEL\n",
      "35080    C21-60\n",
      "Name: Artikel, dtype: object\n",
      "Number of Artikels in this bestel number are:2\n",
      "No artikel of this type in bestel number:300013.B018\n",
      "Checking for order number:300014\n",
      "The Bestel bon numbers in this order are:['300014.B001']\n",
      "Length of the bestel number series is:1\n",
      "Artikles in this bestel number are:46    TB4060G\n",
      "47       3505\n",
      "48       4805\n",
      "49       1069\n",
      "Name: Artikel, dtype: object\n",
      "Number of Artikels in this bestel number are:4\n",
      "No artikel of this type in bestel number:300014.B001\n",
      "Checking for order number:300016\n",
      "The Bestel bon numbers in this order are:['300016.B001']\n",
      "Length of the bestel number series is:1\n",
      "Artikles in this bestel number are:63       991\n",
      "64    BEUGEL\n",
      "65        P1\n",
      "Name: Artikel, dtype: object\n",
      "Number of Artikels in this bestel number are:3\n",
      "No artikel of this type in bestel number:300016.B001\n",
      "Checking for order number:300018\n",
      "The Bestel bon numbers in this order are:['300018.B001']\n",
      "Length of the bestel number series is:1\n",
      "Artikles in this bestel number are:70    991\n",
      "Name: Artikel, dtype: object\n",
      "Number of Artikels in this bestel number are:1\n",
      "No artikel of this type in bestel number:300018.B001\n",
      "Checking for order number:300019\n",
      "The Bestel bon numbers in this order are:['300019.B001' '300019.B002']\n",
      "Length of the bestel number series is:2\n",
      "Artikles in this bestel number are:72       991\n",
      "73     P2-PR\n",
      "74    BEUGEL\n",
      "Name: Artikel, dtype: object\n",
      "Number of Artikels in this bestel number are:3\n",
      "No artikel of this type in bestel number:300019.B001\n",
      "Artikles in this bestel number are:3173        P2-PR\n",
      "3174          991\n",
      "3175       BEUGEL\n",
      "3176    VERVALLEN\n",
      "Name: Artikel, dtype: object\n",
      "Number of Artikels in this bestel number are:4\n",
      "No artikel of this type in bestel number:300019.B002\n",
      "Checking for order number:300021\n",
      "The Bestel bon numbers in this order are:['300021.B001']\n",
      "Length of the bestel number series is:1\n",
      "Artikles in this bestel number are:75       TB80120W\n",
      "76         J16-90\n",
      "77    A01-80-(30)\n",
      "78         F08-80\n",
      "79         D07-80\n",
      "80            991\n",
      "81          P3-PR\n",
      "82    GRONDPOT-PR\n",
      "83         BEUGEL\n",
      "84         D02-30\n",
      "85       BAAKVOET\n",
      "86           BAAK\n",
      "Name: Artikel, dtype: object\n",
      "Number of Artikels in this bestel number are:12\n",
      "No artikel of this type in bestel number:300021.B001\n"
     ]
    }
   ],
   "source": [
    "(bestel_art_nos_vec,quant_bestel_art_vec,retour_art_nos_vec,manco_art_nos_vec,bestel_b_number_vec,order_number_vec,indate_vec,bestel_b_regel_number_vec)=processing.get_all_data(reg_order_series,artikel_code,0,10)\n",
    "        "
   ]
  },
  {
   "cell_type": "code",
   "execution_count": 8,
   "metadata": {},
   "outputs": [
    {
     "name": "stdout",
     "output_type": "stream",
     "text": [
      "Int64Index([1339], dtype='int64')\n",
      "Corresponding retour bon is:1339    300007.R001\n",
      "Name: Retourbon, dtype: object\n",
      "Int64Index([1338], dtype='int64')\n",
      "Corresponding retour bon is:1338    300007.R001\n",
      "Name: Retourbon, dtype: object\n"
     ]
    }
   ],
   "source": [
    "import importlib\n",
    "importlib.reload(processing)\n",
    "(enddate_vec,art_retour_vec)=processing.get_enddate(bestel_b_regel_number_vec,artikel_code)\n",
    "    "
   ]
  },
  {
   "cell_type": "markdown",
   "metadata": {},
   "source": [
    "The next step is to take the indate and out date. and find the number of articles accordingly for the month. "
   ]
  },
  {
   "cell_type": "code",
   "execution_count": 9,
   "metadata": {},
   "outputs": [],
   "source": [
    "year_time_series=pd.date_range(start=\"01-01-2007\",end=\"01-01-2008\",freq='M')\n"
   ]
  },
  {
   "cell_type": "code",
   "execution_count": 10,
   "metadata": {},
   "outputs": [
    {
     "name": "stdout",
     "output_type": "stream",
     "text": [
      "1\n",
      "2\n",
      "3\n",
      "4\n",
      "5\n",
      "6\n",
      "7\n",
      "8\n",
      "9\n",
      "10\n",
      "11\n",
      "12\n"
     ]
    }
   ],
   "source": [
    "net_art_month_vec=[]\n",
    "for month in year_time_series.month:\n",
    "    print(month)\n",
    "    net_art_month=processing.calculate_net_articles(month,quant_bestel_art_vec,bestel_art_nos_vec,indate_vec,enddate_vec,retour_art_nos_vec)\n",
    "    net_art_month_vec=np.append(net_art_month_vec,net_art_month)\n",
    "    "
   ]
  },
  {
   "cell_type": "code",
   "execution_count": 69,
   "metadata": {},
   "outputs": [
    {
     "data": {
      "image/png": "[encoded data removed]",
      "text/plain": [
       "<Figure size 640x480 with 1 Axes>"
      ]
     },
     "metadata": {},
     "output_type": "display_data"
    }
   ],
   "source": [
    "fig=plt.figure()\n",
    "plt.plot(year_time_series.month,net_art_month_vec)\n",
    "fig.savefig(r'C:\\Users\\Amey\\Documents\\BUKO_forecasting\\Results\\Month_plot_test.jpg')"
   ]
  },
  {
   "cell_type": "markdown",
   "metadata": {},
   "source": [
    "The above logic although correct is very slow!!! Need to find a quicker way. "
   ]
  },
  {
   "cell_type": "markdown",
   "metadata": {},
   "source": [
    "First step is to take order numbers only from 2015. So modified the function to take date_indicies of a particular year "
   ]
  },
  {
   "cell_type": "markdown",
   "metadata": {},
   "source": [
    "Then the idea is to merge all the bestel bon regels and retourbon regels based on the bon number (Tim did that.)\n",
    "And just get the artikel order numbers and compare that to order numbres we have A new file with processing will be needed for that ."
   ]
  },
  {
   "cell_type": "code",
   "execution_count": null,
   "metadata": {},
   "outputs": [],
   "source": []
  },
  {
   "cell_type": "code",
   "execution_count": 61,
   "metadata": {},
   "outputs": [
    {
     "name": "stdout",
     "output_type": "stream",
     "text": [
      "05-01-2015\n",
      "06-01-2015\n",
      "07-01-2015\n",
      "08-01-2015\n",
      "09-01-2015\n",
      "10-01-2015\n",
      "12-01-2015\n",
      "13-01-2015\n",
      "14-01-2015\n",
      "15-01-2015\n",
      "16-01-2015\n",
      "19-01-2015\n",
      "20-01-2015\n",
      "21-01-2015\n",
      "22-01-2015\n",
      "23-01-2015\n",
      "26-01-2015\n",
      "27-01-2015\n",
      "28-01-2015\n",
      "29-01-2015\n",
      "30-01-2015\n",
      "02-02-2015\n",
      "03-02-2015\n",
      "04-02-2015\n",
      "05-02-2015\n",
      "06-02-2015\n",
      "09-02-2015\n",
      "10-02-2015\n",
      "11-02-2015\n",
      "12-02-2015\n",
      "13-02-2015\n",
      "16-02-2015\n",
      "17-02-2015\n",
      "18-02-2015\n",
      "17-02-2015\n",
      "18-02-2015\n",
      "19-02-2015\n",
      "20-02-2015\n",
      "21-02-2015\n",
      "23-02-2015\n",
      "24-02-2015\n",
      "25-02-2015\n",
      "26-02-2015\n",
      "27-02-2015\n",
      "02-03-2015\n",
      "03-03-2015\n",
      "04-03-2015\n",
      "05-03-2015\n",
      "06-03-2015\n",
      "09-03-2015\n",
      "10-03-2015\n",
      "11-03-2015\n",
      "12-03-2015\n",
      "13-03-2015\n",
      "16-03-2015\n",
      "17-03-2015\n",
      "18-03-2015\n",
      "19-03-2015\n",
      "20-03-2015\n",
      "23-03-2015\n",
      "24-03-2015\n",
      "25-03-2015\n",
      "26-03-2015\n",
      "27-03-2015\n",
      "30-03-2015\n",
      "31-03-2015\n",
      "01-04-2015\n",
      "02-04-2015\n",
      "07-04-2015\n",
      "08-04-2015\n",
      "09-04-2015\n",
      "10-04-2015\n",
      "13-04-2015\n",
      "21-04-2015\n",
      "13-04-2015\n",
      "14-04-2015\n",
      "15-04-2015\n",
      "16-04-2015\n",
      "17-04-2015\n",
      "20-04-2015\n",
      "21-04-2015\n",
      "22-04-2015\n",
      "23-04-2015\n",
      "24-04-2015\n",
      "04-06-2015\n",
      "24-04-2015\n",
      "28-04-2015\n",
      "29-04-2015\n",
      "30-04-2015\n",
      "01-05-2015\n",
      "04-05-2015\n",
      "05-05-2015\n",
      "06-05-2015\n",
      "07-05-2015\n",
      "08-05-2015\n",
      "11-05-2015\n",
      "12-05-2015\n",
      "13-05-2015\n",
      "18-05-2015\n",
      "19-05-2015\n",
      "20-05-2015\n",
      "21-05-2015\n",
      "22-05-2015\n",
      "26-05-2015\n",
      "27-05-2015\n",
      "28-05-2015\n",
      "29-05-2015\n",
      "01-06-2015\n",
      "02-06-2015\n",
      "03-06-2015\n",
      "04-06-2015\n",
      "05-06-2015\n",
      "22-07-2015\n",
      "23-07-2015\n",
      "24-07-2015\n",
      "27-07-2015\n",
      "28-07-2015\n",
      "29-07-2015\n",
      "30-07-2015\n",
      "31-07-2015\n",
      "03-08-2015\n",
      "04-08-2015\n",
      "05-08-2015\n",
      "06-08-2015\n",
      "07-08-2015\n",
      "11-08-2015\n",
      "12-08-2015\n",
      "07-08-2015\n",
      "10-08-2015\n",
      "11-08-2015\n",
      "12-08-2015\n",
      "13-08-2015\n",
      "14-08-2015\n",
      "17-08-2015\n",
      "18-08-2015\n",
      "19-08-2015\n",
      "20-08-2015\n",
      "21-08-2015\n",
      "24-08-2015\n",
      "25-08-2015\n",
      "26-08-2015\n",
      "27-08-2015\n",
      "28-08-2015\n",
      "31-08-2015\n",
      "01-09-2015\n",
      "02-09-2015\n",
      "03-09-2015\n",
      "04-09-2015\n",
      "07-09-2015\n",
      "08-09-2015\n",
      "21-08-2015\n",
      "08-09-2015\n",
      "09-09-2015\n",
      "10-09-2015\n",
      "11-09-2015\n",
      "14-09-2015\n",
      "15-09-2015\n",
      "16-09-2015\n",
      "17-09-2015\n",
      "18-09-2015\n",
      "21-09-2015\n",
      "22-09-2015\n",
      "23-09-2015\n",
      "22-09-2015\n",
      "23-09-2015\n",
      "24-09-2015\n",
      "25-09-2015\n",
      "28-09-2015\n",
      "29-09-2015\n",
      "30-09-2015\n",
      "01-10-2015\n",
      "02-10-2015\n",
      "05-10-2015\n",
      "06-10-2015\n",
      "07-10-2015\n",
      "08-10-2015\n",
      "09-10-2015\n",
      "12-10-2015\n",
      "13-10-2015\n",
      "14-10-2015\n",
      "15-10-2015\n",
      "16-10-2015\n",
      "19-10-2015\n",
      "20-10-2015\n",
      "21-10-2015\n",
      "22-10-2015\n",
      "27-10-2015\n",
      "22-10-2015\n",
      "23-10-2015\n",
      "26-10-2015\n",
      "27-10-2015\n",
      "28-10-2015\n",
      "29-10-2015\n",
      "30-10-2015\n",
      "02-11-2015\n",
      "03-11-2015\n",
      "04-11-2015\n",
      "05-11-2015\n",
      "06-11-2015\n",
      "06-10-2015\n",
      "06-11-2015\n",
      "09-11-2015\n",
      "10-11-2015\n",
      "11-11-2015\n",
      "12-11-2015\n",
      "13-11-2015\n",
      "16-11-2015\n",
      "17-11-2015\n",
      "18-11-2015\n",
      "19-11-2015\n",
      "20-11-2015\n",
      "23-11-2015\n",
      "24-11-2015\n",
      "25-11-2015\n",
      "26-11-2015\n",
      "27-11-2015\n",
      "30-11-2015\n",
      "01-12-2015\n",
      "02-12-2015\n",
      "03-12-2015\n",
      "04-12-2015\n",
      "07-12-2015\n",
      "08-12-2015\n",
      "09-12-2015\n",
      "10-12-2015\n",
      "11-12-2015\n",
      "14-12-2015\n",
      "15-12-2015\n",
      "16-12-2015\n",
      "17-12-2015\n",
      "16-12-2015\n",
      "17-12-2015\n",
      "18-12-2015\n",
      "21-12-2015\n",
      "22-12-2015\n",
      "23-12-2015\n",
      "21-12-2015\n",
      "24-12-2015\n"
     ]
    },
    {
     "data": {
      "text/plain": [
       "array([74320., 74321., 74322., ..., 85742., 85803., 85806.])"
      ]
     },
     "execution_count": 61,
     "metadata": {},
     "output_type": "execute_result"
    }
   ],
   "source": [
    "importlib.reload(processing)\n",
    "\n",
    "start_year=2015\n",
    "end_year=2016\n",
    "processing.get_date_ind(order_date_series,start_year,end_year)"
   ]
  },
  {
   "cell_type": "code",
   "execution_count": 56,
   "metadata": {},
   "outputs": [
    {
     "data": {
      "text/plain": [
       "74320    05-01-2015\n",
       "74321    05-01-2015\n",
       "74322    05-01-2015\n",
       "74327    05-01-2015\n",
       "74330    05-01-2015\n",
       "            ...    \n",
       "85738    21-12-2015\n",
       "85741    21-12-2015\n",
       "85742    21-12-2015\n",
       "85803    21-12-2015\n",
       "85806    24-12-2015\n",
       "Name: Datum, Length: 6097, dtype: object"
      ]
     },
     "execution_count": 56,
     "metadata": {},
     "output_type": "execute_result"
    }
   ],
   "source": [
    "order_date_series[date_ind]"
   ]
  },
  {
   "cell_type": "code",
   "execution_count": 41,
   "metadata": {},
   "outputs": [
    {
     "name": "stdout",
     "output_type": "stream",
     "text": [
      "213272\n"
     ]
    }
   ],
   "source": [
    "print(loc[0])"
   ]
  },
  {
   "cell_type": "code",
   "execution_count": null,
   "metadata": {},
   "outputs": [],
   "source": []
  }
 ],
 "metadata": {
  "kernelspec": {
   "display_name": "Python 3.9.13 ('buko_infra')",
   "language": "python",
   "name": "python3"
  },
  "language_info": {
   "codemirror_mode": {
    "name": "ipython",
    "version": 3
   },
   "file_extension": ".py",
   "mimetype": "text/x-python",
   "name": "python",
   "nbconvert_exporter": "python",
   "pygments_lexer": "ipython3",
   "version": "3.9.13"
  },
  "orig_nbformat": 4,
  "vscode": {
   "interpreter": {
    "hash": "86aa26c89771bd207b0efb3475eb11ee8828f6708b96ce574c15ec76086be433"
   }
  }
 },
 "nbformat": 4,
 "nbformat_minor": 2
}
